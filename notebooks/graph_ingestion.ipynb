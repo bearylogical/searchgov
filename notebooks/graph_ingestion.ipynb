{
 "cells": [
  {
   "cell_type": "code",
   "execution_count": 1,
   "id": "6b5f52eb",
   "metadata": {},
   "outputs": [],
   "source": [
    "# load data from the sgdb.db which is a sqlite db into a data frame\n",
    "import pandas as pd\n",
    "import sqlite3\n",
    "import os\n",
    "import sys\n",
    "\n",
    "# adds parent directory to sys.path\n",
    "from pathlib import Path\n",
    "import json\n",
    "sys.path.append(str(Path(os.getcwd()).resolve().parent))  # Add the parent directory to the path\n",
    "\n",
    "data_dir = '/Users/syamil/Projects/searchgov/data'\n"
   ]
  },
  {
   "cell_type": "code",
   "execution_count": 2,
   "id": "02cb5452",
   "metadata": {},
   "outputs": [],
   "source": [
    "# load data from parquet\n",
    "\n",
    "tenure_df = pd.read_parquet(os.path.join(data_dir, 'tenure.parquet'))\n",
    "orgs_df = pd.read_parquet(os.path.join(data_dir, 'orgs.parquet'))"
   ]
  },
  {
   "cell_type": "code",
   "execution_count": 3,
   "id": "e0b5f369",
   "metadata": {},
   "outputs": [],
   "source": [
    "from src.app.temporal_graph import TemporalGraph"
   ]
  },
  {
   "cell_type": "code",
   "execution_count": 4,
   "id": "528341b9",
   "metadata": {},
   "outputs": [
    {
     "name": "stderr",
     "output_type": "stream",
     "text": [
      "\u001b[32m2025-06-15 17:39:30.717\u001b[0m | \u001b[1mINFO    \u001b[0m | \u001b[36msrc.database.postgres.connection\u001b[0m:\u001b[36mconnect\u001b[0m:\u001b[36m34\u001b[0m - \u001b[1mConnected to PostgreSQL successfully\u001b[0m\n"
     ]
    }
   ],
   "source": [
    "age_graph = TemporalGraph(\n",
    "    host=\"localhost\",\n",
    "    database=\"searchgov\",\n",
    "    user=\"postgres\",\n",
    "    password=\"postgres\"\n",
    ")"
   ]
  },
  {
   "cell_type": "code",
   "execution_count": 5,
   "id": "96746c43",
   "metadata": {},
   "outputs": [
    {
     "name": "stderr",
     "output_type": "stream",
     "text": [
      "\u001b[32m2025-06-15 17:39:35.707\u001b[0m | \u001b[1mINFO    \u001b[0m | \u001b[36msrc.database.postgres.connection\u001b[0m:\u001b[36mconnect\u001b[0m:\u001b[36m34\u001b[0m - \u001b[1mConnected to PostgreSQL successfully\u001b[0m\n",
      "\u001b[32m2025-06-15 17:39:35.721\u001b[0m | \u001b[34m\u001b[1mDEBUG   \u001b[0m | \u001b[36msrc.database.postgres.schema\u001b[0m:\u001b[36m_drop_tables\u001b[0m:\u001b[36m44\u001b[0m - \u001b[34m\u001b[1mDropped materialized view: colleague_pairs\u001b[0m\n"
     ]
    },
    {
     "name": "stderr",
     "output_type": "stream",
     "text": [
      "\u001b[32m2025-06-15 17:39:35.734\u001b[0m | \u001b[34m\u001b[1mDEBUG   \u001b[0m | \u001b[36msrc.database.postgres.schema\u001b[0m:\u001b[36m_drop_tables\u001b[0m:\u001b[36m50\u001b[0m - \u001b[34m\u001b[1mDropped table: employment\u001b[0m\n",
      "\u001b[32m2025-06-15 17:39:35.738\u001b[0m | \u001b[34m\u001b[1mDEBUG   \u001b[0m | \u001b[36msrc.database.postgres.schema\u001b[0m:\u001b[36m_drop_tables\u001b[0m:\u001b[36m50\u001b[0m - \u001b[34m\u001b[1mDropped table: people\u001b[0m\n",
      "\u001b[32m2025-06-15 17:39:35.819\u001b[0m | \u001b[34m\u001b[1mDEBUG   \u001b[0m | \u001b[36msrc.database.postgres.schema\u001b[0m:\u001b[36m_drop_tables\u001b[0m:\u001b[36m50\u001b[0m - \u001b[34m\u001b[1mDropped table: organizations\u001b[0m\n",
      "\u001b[32m2025-06-15 17:39:35.824\u001b[0m | \u001b[1mINFO    \u001b[0m | \u001b[36msrc.database.postgres.schema\u001b[0m:\u001b[36m_drop_tables\u001b[0m:\u001b[36m52\u001b[0m - \u001b[1mAll tables and materialized views dropped\u001b[0m\n",
      "\u001b[32m2025-06-15 17:39:35.833\u001b[0m | \u001b[34m\u001b[1mDEBUG   \u001b[0m | \u001b[36msrc.database.postgres.schema\u001b[0m:\u001b[36m_create_extensions\u001b[0m:\u001b[36m67\u001b[0m - \u001b[34m\u001b[1mCreated extension: CREATE EXTENSION IF NOT EXISTS btree_gist;\u001b[0m\n",
      "\u001b[32m2025-06-15 17:39:35.834\u001b[0m | \u001b[34m\u001b[1mDEBUG   \u001b[0m | \u001b[36msrc.database.postgres.schema\u001b[0m:\u001b[36m_create_extensions\u001b[0m:\u001b[36m67\u001b[0m - \u001b[34m\u001b[1mCreated extension: CREATE EXTENSION IF NOT EXISTS pg_trgm;\u001b[0m\n",
      "\u001b[32m2025-06-15 17:39:35.834\u001b[0m | \u001b[1mINFO    \u001b[0m | \u001b[36msrc.database.postgres.schema\u001b[0m:\u001b[36m_create_extensions\u001b[0m:\u001b[36m69\u001b[0m - \u001b[1mRegistered vector extension\u001b[0m\n",
      "\u001b[32m2025-06-15 17:39:35.848\u001b[0m | \u001b[1mINFO    \u001b[0m | \u001b[36msrc.database.postgres.schema\u001b[0m:\u001b[36m_create_tables\u001b[0m:\u001b[36m106\u001b[0m - \u001b[1mCreated organizations table with parent_org_id\u001b[0m\n",
      "\u001b[32m2025-06-15 17:39:35.861\u001b[0m | \u001b[1mINFO    \u001b[0m | \u001b[36msrc.database.postgres.schema\u001b[0m:\u001b[36m_create_tables\u001b[0m:\u001b[36m138\u001b[0m - \u001b[1mDatabase tables created\u001b[0m\n",
      "\u001b[32m2025-06-15 17:39:35.880\u001b[0m | \u001b[1mINFO    \u001b[0m | \u001b[36msrc.database.postgres.schema\u001b[0m:\u001b[36m_create_indexes\u001b[0m:\u001b[36m170\u001b[0m - \u001b[1mDatabase indexes created\u001b[0m\n",
      "\u001b[32m2025-06-15 17:39:35.893\u001b[0m | \u001b[1mINFO    \u001b[0m | \u001b[36msrc.database.postgres.schema\u001b[0m:\u001b[36m_create_materialized_views\u001b[0m:\u001b[36m221\u001b[0m - \u001b[1mMaterialized views created\u001b[0m\n",
      "\u001b[32m2025-06-15 17:39:35.897\u001b[0m | \u001b[1mINFO    \u001b[0m | \u001b[36msrc.database.postgres.schema\u001b[0m:\u001b[36m_create_functions\u001b[0m:\u001b[36m436\u001b[0m - \u001b[1mDatabase functions created\u001b[0m\n"
     ]
    }
   ],
   "source": [
    "from src.database.postgres.schema import SchemaManager\n",
    "from src.database.postgres.connection import DatabaseConnection\n",
    "\n",
    "schema_manager = SchemaManager(DatabaseConnection(\n",
    "        host=\"localhost\",\n",
    "        database=\"searchgov\",\n",
    "        user=\"postgres\",\n",
    "        password=\"postgres\"\n",
    "    ),\n",
    ")\n",
    "\n",
    "\n",
    "schema_manager.reset_schema()"
   ]
  },
  {
   "cell_type": "markdown",
   "id": "502186c8",
   "metadata": {},
   "source": [
    "## Pre-seed orgs for efficiency"
   ]
  },
  {
   "cell_type": "code",
   "execution_count": 6,
   "id": "0e2addec",
   "metadata": {},
   "outputs": [
    {
     "data": {
      "text/plain": [
       "{'created': 23361, 'updated': 1772, 'failed': 0}"
      ]
     },
     "execution_count": 6,
     "metadata": {},
     "output_type": "execute_result"
    }
   ],
   "source": [
    "# convert any datetime column to iso format\n",
    "import numpy as np\n",
    "orgs_records = orgs_df.to_dict(orient='records')\n",
    "# convert any value in orgs_records that is a datetime to iso format and any ndarray to list\n",
    "for record in orgs_records:\n",
    "    for key, value in record.items():\n",
    "        if isinstance(value, pd.Timestamp):\n",
    "            record[key] = value.isoformat()\n",
    "        elif isinstance(value, pd.Series):\n",
    "            record[key] = value.tolist()\n",
    "# convert any value in orgs_records that is a numpy ndarray to list\n",
    "        elif isinstance(value, (list, tuple)):\n",
    "            record[key] = list(value)\n",
    "        elif isinstance(value, np.ndarray):\n",
    "            record[key] = value.tolist()\n",
    "\n",
    "# sorted_org_data = sorted(\n",
    "#             orgs_records, key=lambda x: len(x.get(\"parts\", []))\n",
    "#         )\n",
    "age_graph.preseed_orgs(orgs_records)\n",
    "\n"
   ]
  },
  {
   "cell_type": "code",
   "execution_count": 7,
   "id": "a395a060",
   "metadata": {},
   "outputs": [],
   "source": [
    "import html \n",
    "\n",
    "def transform_record(record):\n",
    "    return {\n",
    "        'clean_name': record['clean_name'],\n",
    "        'org': record['org'],\n",
    "        'rank': record['rank'],\n",
    "        'start_date': record['start_date'].date() if hasattr(record['start_date'], 'date') else record['start_date'],\n",
    "        'end_date': record['end_date'].date() if hasattr(record['end_date'], 'date') else record['end_date'],\n",
    "        'embedding': record.get('embedding', None),\n",
    "        'tenure_days': record['tenure_days'],\n",
    "        'tel': record.get('tel'),\n",
    "        'email': record.get('email'),\n",
    "        'url': record.get('url'),\n",
    "        'raw_name': record.get('raw_name'),\n",
    "        'lower_name': record.get('lower_name'),\n",
    "        'type': record.get('type', 'person'),\n",
    "        'parent_org_name': record.get('parent_org_name'),\n",
    "        'parent_org_url': record.get('parent_org_url'),\n",
    "        'sgdi_entity_type': record.get('sgdi_entity_type'),\n",
    "    }\n",
    "\n",
    "# Your data\n",
    "your_data = tenure_df.to_dict(orient='records')\n",
    "# Bulk insert\n",
    "transformed_data = [transform_record(record) for record in your_data]"
   ]
  },
  {
   "cell_type": "code",
   "execution_count": 8,
   "id": "bbee0645",
   "metadata": {},
   "outputs": [
    {
     "name": "stderr",
     "output_type": "stream",
     "text": [
      "\u001b[32m2025-06-15 17:39:51.873\u001b[0m | \u001b[1mINFO    \u001b[0m | \u001b[36msrc.services.employment\u001b[0m:\u001b[36mbulk_insert_records\u001b[0m:\u001b[36m48\u001b[0m - \u001b[1mGrouping 136487 records by name...\u001b[0m\n",
      "\u001b[32m2025-06-15 17:39:51.968\u001b[0m | \u001b[1mINFO    \u001b[0m | \u001b[36msrc.services.employment\u001b[0m:\u001b[36mbulk_insert_records\u001b[0m:\u001b[36m52\u001b[0m - \u001b[1mGrouped into 61028 unique names.\u001b[0m\n",
      "\u001b[32m2025-06-15 17:42:04.015\u001b[0m | \u001b[1mINFO    \u001b[0m | \u001b[36msrc.services.employment\u001b[0m:\u001b[36mbulk_insert_records\u001b[0m:\u001b[36m85\u001b[0m - \u001b[1mBulk insert process finished. Refreshing materialized views...\u001b[0m\n",
      "\u001b[32m2025-06-15 17:42:12.212\u001b[0m | \u001b[1mINFO    \u001b[0m | \u001b[36msrc.database.postgres.schema\u001b[0m:\u001b[36mrefresh_materialized_views\u001b[0m:\u001b[36m443\u001b[0m - \u001b[1mMaterialized views refreshed\u001b[0m\n",
      "\u001b[32m2025-06-15 17:42:12.212\u001b[0m | \u001b[1mINFO    \u001b[0m | \u001b[36msrc.services.employment\u001b[0m:\u001b[36mbulk_insert_records\u001b[0m:\u001b[36m90\u001b[0m - \u001b[1mMaterialized views refreshed successfully.\u001b[0m\n"
     ]
    }
   ],
   "source": [
    "result = age_graph.bulk_insert_records(transformed_data, batch_size=1000)"
   ]
  },
  {
   "cell_type": "code",
   "execution_count": null,
   "id": "4af53440",
   "metadata": {},
   "outputs": [
    {
     "data": {
      "text/plain": [
       "[{'colleague_name': 'Andrea Liang',\n",
       "  'organization': 'POLICY AND PLANNING  : PLANNING & RESEARCH',\n",
       "  'colleague_rank': 'Senior Assistant Director',\n",
       "  'colleague_start_date': datetime.date(2021, 7, 22),\n",
       "  'colleague_end_date': datetime.date(2022, 4, 10),\n",
       "  'person_start_date': datetime.date(2021, 7, 22),\n",
       "  'person_end_date': datetime.date(2022, 4, 10),\n",
       "  'overlap_start_date': datetime.date(2021, 7, 22),\n",
       "  'overlap_end_date': datetime.date(2022, 4, 10),\n",
       "  'overlap_days': 263},\n",
       " {'colleague_name': 'Haikal Yeo',\n",
       "  'organization': 'POLICY AND PLANNING  : PLANNING & RESEARCH',\n",
       "  'colleague_rank': 'Senior Analyst',\n",
       "  'colleague_start_date': datetime.date(2021, 7, 22),\n",
       "  'colleague_end_date': datetime.date(2022, 4, 10),\n",
       "  'person_start_date': datetime.date(2021, 7, 22),\n",
       "  'person_end_date': datetime.date(2022, 4, 10),\n",
       "  'overlap_start_date': datetime.date(2021, 7, 22),\n",
       "  'overlap_end_date': datetime.date(2022, 4, 10),\n",
       "  'overlap_days': 263},\n",
       " {'colleague_name': 'He Weixuan',\n",
       "  'organization': 'POLICY AND PLANNING  : PLANNING & RESEARCH',\n",
       "  'colleague_rank': 'Lead Analyst',\n",
       "  'colleague_start_date': datetime.date(2021, 7, 22),\n",
       "  'colleague_end_date': datetime.date(2022, 4, 10),\n",
       "  'person_start_date': datetime.date(2021, 7, 22),\n",
       "  'person_end_date': datetime.date(2022, 4, 10),\n",
       "  'overlap_start_date': datetime.date(2021, 7, 22),\n",
       "  'overlap_end_date': datetime.date(2022, 4, 10),\n",
       "  'overlap_days': 263},\n",
       " {'colleague_name': 'Leanne Tan',\n",
       "  'organization': 'POLICY AND PLANNING  : PLANNING & RESEARCH',\n",
       "  'colleague_rank': 'Analyst',\n",
       "  'colleague_start_date': datetime.date(2021, 7, 22),\n",
       "  'colleague_end_date': datetime.date(2022, 4, 10),\n",
       "  'person_start_date': datetime.date(2021, 7, 22),\n",
       "  'person_end_date': datetime.date(2022, 4, 10),\n",
       "  'overlap_start_date': datetime.date(2021, 7, 22),\n",
       "  'overlap_end_date': datetime.date(2022, 4, 10),\n",
       "  'overlap_days': 263},\n",
       " {'colleague_name': 'Loh Yuh Yiing',\n",
       "  'organization': 'STRATEGY & POLICY PLANNING DIVISION : Social Resilience',\n",
       "  'colleague_rank': 'Deputy Director',\n",
       "  'colleague_start_date': datetime.date(2021, 7, 22),\n",
       "  'colleague_end_date': datetime.date(2022, 4, 10),\n",
       "  'person_start_date': datetime.date(2021, 7, 22),\n",
       "  'person_end_date': datetime.date(2022, 4, 10),\n",
       "  'overlap_start_date': datetime.date(2021, 7, 22),\n",
       "  'overlap_end_date': datetime.date(2022, 4, 10),\n",
       "  'overlap_days': 263},\n",
       " {'colleague_name': 'Philomena Aw',\n",
       "  'organization': 'STRATEGY & POLICY PLANNING DIVISION : Social Resilience',\n",
       "  'colleague_rank': 'Director',\n",
       "  'colleague_start_date': datetime.date(2021, 7, 22),\n",
       "  'colleague_end_date': datetime.date(2023, 3, 26),\n",
       "  'person_start_date': datetime.date(2021, 7, 22),\n",
       "  'person_end_date': datetime.date(2022, 4, 10),\n",
       "  'overlap_start_date': datetime.date(2021, 7, 22),\n",
       "  'overlap_end_date': datetime.date(2022, 4, 10),\n",
       "  'overlap_days': 263},\n",
       " {'colleague_name': 'Poh Wee Kang',\n",
       "  'organization': 'STRATEGY & POLICY PLANNING DIVISION : Social Resilience',\n",
       "  'colleague_rank': 'Assistant Director',\n",
       "  'colleague_start_date': datetime.date(2021, 7, 22),\n",
       "  'colleague_end_date': datetime.date(2023, 2, 12),\n",
       "  'person_start_date': datetime.date(2021, 7, 22),\n",
       "  'person_end_date': datetime.date(2022, 4, 10),\n",
       "  'overlap_start_date': datetime.date(2021, 7, 22),\n",
       "  'overlap_end_date': datetime.date(2022, 4, 10),\n",
       "  'overlap_days': 263},\n",
       " {'colleague_name': 'Sandy Wan',\n",
       "  'organization': 'STRATEGY & POLICY PLANNING DIVISION : Social Resilience',\n",
       "  'colleague_rank': 'PA',\n",
       "  'colleague_start_date': datetime.date(2021, 7, 22),\n",
       "  'colleague_end_date': datetime.date(2025, 5, 11),\n",
       "  'person_start_date': datetime.date(2021, 7, 22),\n",
       "  'person_end_date': datetime.date(2022, 4, 10),\n",
       "  'overlap_start_date': datetime.date(2021, 7, 22),\n",
       "  'overlap_end_date': datetime.date(2022, 4, 10),\n",
       "  'overlap_days': 263},\n",
       " {'colleague_name': 'Selene Wong',\n",
       "  'organization': 'POLICY AND PLANNING  : PLANNING & RESEARCH',\n",
       "  'colleague_rank': 'Analyst',\n",
       "  'colleague_start_date': datetime.date(2021, 7, 22),\n",
       "  'colleague_end_date': datetime.date(2022, 4, 3),\n",
       "  'person_start_date': datetime.date(2021, 7, 22),\n",
       "  'person_end_date': datetime.date(2022, 4, 10),\n",
       "  'overlap_start_date': datetime.date(2021, 7, 22),\n",
       "  'overlap_end_date': datetime.date(2022, 4, 3),\n",
       "  'overlap_days': 256},\n",
       " {'colleague_name': 'Talia Seet',\n",
       "  'organization': 'STRATEGY & POLICY PLANNING DIVISION : Social Resilience',\n",
       "  'colleague_rank': 'Senior Manager',\n",
       "  'colleague_start_date': datetime.date(2021, 7, 22),\n",
       "  'colleague_end_date': datetime.date(2022, 7, 10),\n",
       "  'person_start_date': datetime.date(2021, 7, 22),\n",
       "  'person_end_date': datetime.date(2022, 4, 10),\n",
       "  'overlap_start_date': datetime.date(2021, 7, 22),\n",
       "  'overlap_end_date': datetime.date(2022, 4, 10),\n",
       "  'overlap_days': 263},\n",
       " {'colleague_name': 'Tan Jie Ying',\n",
       "  'organization': 'POLICY AND PLANNING  : PLANNING & RESEARCH',\n",
       "  'colleague_rank': 'Analyst',\n",
       "  'colleague_start_date': datetime.date(2021, 11, 11),\n",
       "  'colleague_end_date': datetime.date(2025, 5, 11),\n",
       "  'person_start_date': datetime.date(2021, 7, 22),\n",
       "  'person_end_date': datetime.date(2022, 4, 10),\n",
       "  'overlap_start_date': datetime.date(2021, 11, 11),\n",
       "  'overlap_end_date': datetime.date(2022, 4, 10),\n",
       "  'overlap_days': 151},\n",
       " {'colleague_name': 'Tan Xin Yi Kellie',\n",
       "  'organization': 'STRATEGY & POLICY PLANNING DIVISION : Social Resilience',\n",
       "  'colleague_rank': 'Assistant Director',\n",
       "  'colleague_start_date': datetime.date(2021, 11, 11),\n",
       "  'colleague_end_date': datetime.date(2022, 2, 6),\n",
       "  'person_start_date': datetime.date(2021, 7, 22),\n",
       "  'person_end_date': datetime.date(2022, 4, 10),\n",
       "  'overlap_start_date': datetime.date(2021, 11, 11),\n",
       "  'overlap_end_date': datetime.date(2022, 2, 6),\n",
       "  'overlap_days': 88},\n",
       " {'colleague_name': 'Toh Li Bin',\n",
       "  'organization': 'STRATEGY & POLICY PLANNING DIVISION : Social Resilience',\n",
       "  'colleague_rank': 'Senior Manager',\n",
       "  'colleague_start_date': datetime.date(2022, 4, 10),\n",
       "  'colleague_end_date': datetime.date(2023, 4, 2),\n",
       "  'person_start_date': datetime.date(2021, 7, 22),\n",
       "  'person_end_date': datetime.date(2022, 4, 10),\n",
       "  'overlap_start_date': datetime.date(2022, 4, 10),\n",
       "  'overlap_end_date': datetime.date(2022, 4, 10),\n",
       "  'overlap_days': 1},\n",
       " {'colleague_name': 'Wu Sau Ling',\n",
       "  'organization': 'STRATEGY & POLICY PLANNING DIVISION : Social Resilience',\n",
       "  'colleague_rank': 'Assistant Director',\n",
       "  'colleague_start_date': datetime.date(2021, 7, 22),\n",
       "  'colleague_end_date': datetime.date(2021, 10, 12),\n",
       "  'person_start_date': datetime.date(2021, 7, 22),\n",
       "  'person_end_date': datetime.date(2022, 4, 10),\n",
       "  'overlap_start_date': datetime.date(2021, 7, 22),\n",
       "  'overlap_end_date': datetime.date(2021, 10, 12),\n",
       "  'overlap_days': 83}]"
      ]
     },
     "execution_count": 18,
     "metadata": {},
     "output_type": "execute_result"
    }
   ],
   "source": []
  },
  {
   "cell_type": "code",
   "execution_count": null,
   "id": "b07d039b",
   "metadata": {},
   "outputs": [],
   "source": [
    "tenure_df"
   ]
  },
  {
   "cell_type": "code",
   "execution_count": null,
   "id": "1e0cd848",
   "metadata": {},
   "outputs": [],
   "source": []
  }
 ],
 "metadata": {
  "kernelspec": {
   "display_name": ".venv",
   "language": "python",
   "name": "python3"
  },
  "language_info": {
   "codemirror_mode": {
    "name": "ipython",
    "version": 3
   },
   "file_extension": ".py",
   "mimetype": "text/x-python",
   "name": "python",
   "nbconvert_exporter": "python",
   "pygments_lexer": "ipython3",
   "version": "3.11.8"
  }
 },
 "nbformat": 4,
 "nbformat_minor": 5
}
